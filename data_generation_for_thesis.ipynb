{
 "cells": [
  {
   "cell_type": "code",
   "execution_count": 1,
   "metadata": {},
   "outputs": [
    {
     "name": "stdout",
     "output_type": "stream",
     "text": [
      "cuda? [CpuDevice(id=0)] cpu\n"
     ]
    }
   ],
   "source": [
    "### IMPORTS ###\n",
    "from typing import Callable, Sequence, Any\n",
    "from functools import partial\n",
    "import jax\n",
    "import jax.numpy as jnp\n",
    "import flax\n",
    "import flax.linen as nn\n",
    "import optax\n",
    "import jaxopt\n",
    "import tqdm\n",
    "import matplotlib.pyplot as plt\n",
    "import seaborn as sns\n",
    "import os\n",
    "import pickle\n",
    "from functions import Fourier, Mixture, Slope, Polynomial, WhiteNoise, Shift\n",
    "from networks import MixtureNeuralProcess, MLP, MeanAggregator, SequenceAggregator, NonLinearMVN, ResBlock\n",
    "print('cuda?', jax.devices(), jax.devices()[0].device_kind)\n",
    "\n",
    "os.environ[\"XLA_PYTHON_CLIENT_PREALLOCATE\"]=\"false\"\n",
    "os.environ[\"XLA_PYTHON_CLIENT_MEM_FRACTION\"]=\".XX\"\n",
    "os.environ[\"XLA_PYTHON_CLIENT_ALLOCATOR\"]=\"platform\""
   ]
  },
  {
   "cell_type": "code",
   "execution_count": 2,
   "metadata": {},
   "outputs": [],
   "source": [
    "### CONFIGURATION ###\n",
    "# Test-configuration\n",
    "dataset_size = 128\n",
    "test_resolution = 512\n",
    "\n",
    "# Train-configuration\n",
    "num_posterior_mc = 1  # number of alatents to sample from p(Z | X, Y)\n",
    "batch_size = 128  # number of functions to sample from p(Z)\n",
    "\n",
    "kl_penalty = 1e-4  # Note to self: magnitude of the kl-divergence can take over in the loss\n",
    "num_target_samples = 32\n",
    "num_context_samples = 64"
   ]
  },
  {
   "cell_type": "code",
   "execution_count": 3,
   "metadata": {},
   "outputs": [],
   "source": [
    "### DATA TRAINING DISTRIBUTION/DATA GENERATION ###\n",
    "f1 = Fourier(n=4, amplitude=.5, period=1.0)\n",
    "f2 = Fourier(n=2, amplitude=.5, period=1.0)\n",
    "f3 = Fourier(n=6, amplitude=.5, period=2.0)\n",
    "f4 = Fourier(n=3, amplitude=1.0, period=2.0)\n",
    "m = Mixture([Shift(f1, y_shift=-2), Shift(f2, y_shift=0.0), Shift(f3, y_shift=2)])\n",
    "nm = Mixture([WhiteNoise(m.branches[0], 0.05), WhiteNoise(m.branches[1], 0.2), WhiteNoise(m.branches[2], 0.1)])\n",
    "fixed_seed = 12345\n",
    "rng = jax.random.PRNGKey(fixed_seed)"
   ]
  },
  {
   "cell_type": "code",
   "execution_count": 4,
   "metadata": {},
   "outputs": [],
   "source": [
    "### DEFINING SAMPLERS ###\n",
    "def joint(\n",
    "    module: nn.Module, \n",
    "    data_sampler: Callable[\n",
    "        [nn.Module, flax.typing.VariableDict, flax.typing.PRNGKey], \n",
    "        tuple[jax.Array, jax.Array]\n",
    "    ],\n",
    "    key: flax.typing.PRNGKey, \n",
    "    return_params: bool = False\n",
    ") -> tuple[jax.Array, jax.Array]:\n",
    "    # Samples from p(Z, X, Y)\n",
    "    key_param, key_rng, key_data = jax.random.split(key, 3)\n",
    "    \n",
    "    params = module.init({'param': key_param, 'default': key_rng}, jnp.zeros(()))\n",
    "    xs, ys = data_sampler(module, params, key_data)\n",
    "\n",
    "    if return_params:\n",
    "        return xs, ys, params\n",
    "    return xs, ys\n",
    "\n",
    "\n",
    "def uniform(\n",
    "    module: nn.Module, \n",
    "    params: flax.typing.VariableDict, \n",
    "    key: flax.typing.PRNGKey, \n",
    "    n: int,\n",
    "    bounds: tuple[float, float]\n",
    ") -> tuple[jax.Array, jax.Array]:\n",
    "    \n",
    "    # Samples from p(X, Y | Z) = p(Y | Z, X)p(X)\n",
    "    key_xs, key_ys = jax.random.split(key)\n",
    "    xs = jax.random.uniform(key_xs, (n,)) * (bounds[1] - bounds[0]) + bounds[0]\n",
    "\n",
    "    ys = jax.vmap(module.apply, in_axes=(None, 0))(params, xs, rngs={'default': jax.random.split(key_ys, n)})\n",
    "\n",
    "    return xs, ys"
   ]
  },
  {
   "cell_type": "code",
   "execution_count": 5,
   "metadata": {},
   "outputs": [],
   "source": [
    "### SPECIFY WHICH FUNCTION-PRIOR TO LEARN ###\n",
    "data_sampler = partial(\n",
    "    joint, \n",
    "    WhiteNoise(f2, 0.1), \n",
    "    partial(uniform, n=num_target_samples + num_context_samples, bounds=(-1, 1))\n",
    ")"
   ]
  },
  {
   "cell_type": "code",
   "execution_count": 6,
   "metadata": {},
   "outputs": [],
   "source": [
    "### DEFINE THE SPECIFIC TEST CASE ###\n",
    "def f(\n",
    "    key: flax.typing.PRNGKey, \n",
    "    x: jax.Array, \n",
    "    noise_scale: float = 0.2, \n",
    "    mixture_prob: float = 0.5, \n",
    "    corrupt: bool = True\n",
    "):\n",
    "    noise = jax.random.normal(key, x.shape) * noise_scale\n",
    "    return(-2-jnp.cos(2 * jnp.pi * x)) + corrupt * noise\n",
    "\n",
    "rng, key_data, key_test, key_x = jax.random.split(rng, 4)\n",
    "keys_data = jax.random.split(key_data, (dataset_size,))\n",
    "keys_test = jax.random.split(key_test, (test_resolution,))"
   ]
  },
  {
   "cell_type": "code",
   "execution_count": 7,
   "metadata": {},
   "outputs": [
    {
     "name": "stderr",
     "output_type": "stream",
     "text": [
      "Generating data. : 100%|██████████| 5000/5000 [03:54<00:00, 21.32it/s]\n"
     ]
    },
    {
     "name": "stdout",
     "output_type": "stream",
     "text": [
      "1 generation done!\n"
     ]
    }
   ],
   "source": [
    "###GENERATE THE DATA###\n",
    "for dataset_number in range(1, 2):\n",
    "    xss_yss_unordered = []\n",
    "    for i in (pbar := tqdm.trange(5000, desc='Generating data. ')):\n",
    "        rng, key = jax.random.split(rng)    \n",
    "        key_data, key_model = jax.random.split(key)\n",
    "        xs, ys = jax.vmap(data_sampler)(jax.random.split(key_data, num=batch_size))\n",
    "        xs, ys = xs[..., None], ys[..., None]\n",
    "        xss_yss_unordered.append((xs, ys))\n",
    "    \n",
    "    print(f\"{dataset_number} generation done!\")\n",
    "    with open(f\"saved_datasets/training_data_{dataset_number}.pkl\", 'wb') as document_to_write:\n",
    "        pickle.dump(xss_yss_unordered, document_to_write)"
   ]
  },
  {
   "cell_type": "code",
   "execution_count": 22,
   "metadata": {},
   "outputs": [
    {
     "name": "stderr",
     "output_type": "stream",
     "text": [
      "Generating data. : 100%|██████████| 5000/5000 [03:41<00:00, 22.57it/s]\n"
     ]
    }
   ],
   "source": [
    "xss_yss_unordered = []\n",
    "for i in (pbar := tqdm.trange(5000, desc='Generating data. ')):\n",
    "    rng, key = jax.random.split(rng)    \n",
    "    key_data, key_model = jax.random.split(key)\n",
    "    xs, ys = jax.vmap(data_sampler)(jax.random.split(key_data, num=batch_size))\n",
    "    xs, ys = xs[..., None], ys[..., None]\n",
    "    xss_yss_unordered.append((xs, ys))\n",
    "        \n",
    "with open(f\"saved_datasets/evaluation_data.pkl\", 'wb') as document_to_write:\n",
    "    pickle.dump(xss_yss_unordered, document_to_write)"
   ]
  }
 ],
 "metadata": {
  "kernelspec": {
   "display_name": "neuralproc",
   "language": "python",
   "name": "python3"
  },
  "language_info": {
   "codemirror_mode": {
    "name": "ipython",
    "version": 3
   },
   "file_extension": ".py",
   "mimetype": "text/x-python",
   "name": "python",
   "nbconvert_exporter": "python",
   "pygments_lexer": "ipython3",
   "version": "3.10.14"
  }
 },
 "nbformat": 4,
 "nbformat_minor": 2
}
